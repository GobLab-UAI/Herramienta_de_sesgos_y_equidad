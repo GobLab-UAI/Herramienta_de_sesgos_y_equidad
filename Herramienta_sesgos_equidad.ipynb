{
 "cells": [
  {
   "cell_type": "code",
   "execution_count": 1,
   "id": "9d1d7411",
   "metadata": {},
   "outputs": [],
   "source": [
    "#importamos librerias \n",
    "\n",
    "import pandas as pd\n",
    "import numpy as np"
   ]
  },
  {
   "cell_type": "code",
   "execution_count": 2,
   "id": "fc5299d0",
   "metadata": {},
   "outputs": [],
   "source": [
    "import sklearn\n",
    "from sklearn.metrics import confusion_matrix"
   ]
  },
  {
   "cell_type": "markdown",
   "id": "b7e2ff64",
   "metadata": {},
   "source": [
    "### Abrir base de datos "
   ]
  },
  {
   "cell_type": "code",
   "execution_count": 3,
   "id": "e5d3d4c9",
   "metadata": {},
   "outputs": [
    {
     "data": {
      "text/html": [
       "<div>\n",
       "<style scoped>\n",
       "    .dataframe tbody tr th:only-of-type {\n",
       "        vertical-align: middle;\n",
       "    }\n",
       "\n",
       "    .dataframe tbody tr th {\n",
       "        vertical-align: top;\n",
       "    }\n",
       "\n",
       "    .dataframe thead th {\n",
       "        text-align: right;\n",
       "    }\n",
       "</style>\n",
       "<table border=\"1\" class=\"dataframe\">\n",
       "  <thead>\n",
       "    <tr style=\"text-align: right;\">\n",
       "      <th></th>\n",
       "      <th>RUN</th>\n",
       "      <th>NOMBRE</th>\n",
       "      <th>BANCO</th>\n",
       "      <th>MES</th>\n",
       "      <th>FPAGO</th>\n",
       "      <th>LUGAR_PAGO</th>\n",
       "      <th>COMUNA</th>\n",
       "      <th>C_COMUNA</th>\n",
       "      <th>REGION</th>\n",
       "      <th>C_REGION</th>\n",
       "      <th>...</th>\n",
       "      <th>RANGO_EDAD</th>\n",
       "      <th>SEXO</th>\n",
       "      <th>ECIVIL</th>\n",
       "      <th>NACIONALIDAD</th>\n",
       "      <th>FEC_DEF</th>\n",
       "      <th>FALLECIDO</th>\n",
       "      <th>PREDICCION</th>\n",
       "      <th>REAL</th>\n",
       "      <th>EMAIL</th>\n",
       "      <th>SMS</th>\n",
       "    </tr>\n",
       "  </thead>\n",
       "  <tbody>\n",
       "    <tr>\n",
       "      <th>0</th>\n",
       "      <td>4576567</td>\n",
       "      <td>REUQUE LLANCAMAN CLAUDINA</td>\n",
       "      <td>CCAF LOS HEROES</td>\n",
       "      <td>ABRIL</td>\n",
       "      <td>RURAL</td>\n",
       "      <td>TALAMI (ALHUE)</td>\n",
       "      <td>ALHUE</td>\n",
       "      <td>13502</td>\n",
       "      <td>METROPOLITANA</td>\n",
       "      <td>13</td>\n",
       "      <td>...</td>\n",
       "      <td>5</td>\n",
       "      <td>F</td>\n",
       "      <td>SOLTERO</td>\n",
       "      <td>C</td>\n",
       "      <td>NaT</td>\n",
       "      <td>NO</td>\n",
       "      <td>1</td>\n",
       "      <td>0</td>\n",
       "      <td>SI</td>\n",
       "      <td>SI</td>\n",
       "    </tr>\n",
       "    <tr>\n",
       "      <th>1</th>\n",
       "      <td>4798932</td>\n",
       "      <td>AROSTICA CORTES EVA DEL CARMEN</td>\n",
       "      <td>CCAF LOS HEROES</td>\n",
       "      <td>ABRIL</td>\n",
       "      <td>RURAL</td>\n",
       "      <td>LOS LOROS</td>\n",
       "      <td>TIERRA AMARILLA</td>\n",
       "      <td>3103</td>\n",
       "      <td>ATACAMA</td>\n",
       "      <td>3</td>\n",
       "      <td>...</td>\n",
       "      <td>5</td>\n",
       "      <td>F</td>\n",
       "      <td>SOLTERO</td>\n",
       "      <td>C</td>\n",
       "      <td>NaT</td>\n",
       "      <td>NO</td>\n",
       "      <td>0</td>\n",
       "      <td>0</td>\n",
       "      <td>NO</td>\n",
       "      <td>NO</td>\n",
       "    </tr>\n",
       "    <tr>\n",
       "      <th>2</th>\n",
       "      <td>6762746</td>\n",
       "      <td>GONZALEZ VARAS ROSA MARGARITA</td>\n",
       "      <td>CCAF LOS HEROES</td>\n",
       "      <td>ABRIL</td>\n",
       "      <td>RURAL</td>\n",
       "      <td>LOS LOROS</td>\n",
       "      <td>TIERRA AMARILLA</td>\n",
       "      <td>3103</td>\n",
       "      <td>ATACAMA</td>\n",
       "      <td>3</td>\n",
       "      <td>...</td>\n",
       "      <td>2</td>\n",
       "      <td>F</td>\n",
       "      <td>CASADO</td>\n",
       "      <td>C</td>\n",
       "      <td>NaT</td>\n",
       "      <td>NO</td>\n",
       "      <td>1</td>\n",
       "      <td>0</td>\n",
       "      <td>NO</td>\n",
       "      <td>NO</td>\n",
       "    </tr>\n",
       "    <tr>\n",
       "      <th>3</th>\n",
       "      <td>4581981</td>\n",
       "      <td>AVALOS LEYTON LUISA ELENA</td>\n",
       "      <td>CCAF LOS HEROES</td>\n",
       "      <td>ABRIL</td>\n",
       "      <td>RURAL</td>\n",
       "      <td>CALINGASTA</td>\n",
       "      <td>VICUÑA</td>\n",
       "      <td>4106</td>\n",
       "      <td>COQUIMBO</td>\n",
       "      <td>4</td>\n",
       "      <td>...</td>\n",
       "      <td>4</td>\n",
       "      <td>F</td>\n",
       "      <td>DIVORCIADO</td>\n",
       "      <td>C</td>\n",
       "      <td>NaT</td>\n",
       "      <td>NO</td>\n",
       "      <td>0</td>\n",
       "      <td>0</td>\n",
       "      <td>NO</td>\n",
       "      <td>NO</td>\n",
       "    </tr>\n",
       "    <tr>\n",
       "      <th>4</th>\n",
       "      <td>7247445</td>\n",
       "      <td>ARAYA MUNOZ PABLA</td>\n",
       "      <td>BANCO ESTADO</td>\n",
       "      <td>ABRIL</td>\n",
       "      <td>SUCURSAL BECH</td>\n",
       "      <td>COMBARBALA</td>\n",
       "      <td>COMBARBALA</td>\n",
       "      <td>4302</td>\n",
       "      <td>COQUIMBO</td>\n",
       "      <td>4</td>\n",
       "      <td>...</td>\n",
       "      <td>2</td>\n",
       "      <td>F</td>\n",
       "      <td>CASADO</td>\n",
       "      <td>C</td>\n",
       "      <td>NaT</td>\n",
       "      <td>NO</td>\n",
       "      <td>1</td>\n",
       "      <td>1</td>\n",
       "      <td>NO</td>\n",
       "      <td>NO</td>\n",
       "    </tr>\n",
       "  </tbody>\n",
       "</table>\n",
       "<p>5 rows × 28 columns</p>\n",
       "</div>"
      ],
      "text/plain": [
       "       RUN                          NOMBRE            BANCO    MES  \\\n",
       "0  4576567       REUQUE LLANCAMAN CLAUDINA  CCAF LOS HEROES  ABRIL   \n",
       "1  4798932  AROSTICA CORTES EVA DEL CARMEN  CCAF LOS HEROES  ABRIL   \n",
       "2  6762746   GONZALEZ VARAS ROSA MARGARITA  CCAF LOS HEROES  ABRIL   \n",
       "3  4581981       AVALOS LEYTON LUISA ELENA  CCAF LOS HEROES  ABRIL   \n",
       "4  7247445               ARAYA MUNOZ PABLA     BANCO ESTADO  ABRIL   \n",
       "\n",
       "           FPAGO      LUGAR_PAGO           COMUNA  C_COMUNA         REGION  \\\n",
       "0          RURAL  TALAMI (ALHUE)            ALHUE     13502  METROPOLITANA   \n",
       "1          RURAL       LOS LOROS  TIERRA AMARILLA      3103        ATACAMA   \n",
       "2          RURAL       LOS LOROS  TIERRA AMARILLA      3103        ATACAMA   \n",
       "3          RURAL      CALINGASTA           VICUÑA      4106       COQUIMBO   \n",
       "4  SUCURSAL BECH      COMBARBALA       COMBARBALA      4302       COQUIMBO   \n",
       "\n",
       "   C_REGION  ... RANGO_EDAD  SEXO      ECIVIL  NACIONALIDAD FEC_DEF FALLECIDO  \\\n",
       "0        13  ...          5     F     SOLTERO             C     NaT        NO   \n",
       "1         3  ...          5     F     SOLTERO             C     NaT        NO   \n",
       "2         3  ...          2     F      CASADO             C     NaT        NO   \n",
       "3         4  ...          4     F  DIVORCIADO             C     NaT        NO   \n",
       "4         4  ...          2     F      CASADO             C     NaT        NO   \n",
       "\n",
       "  PREDICCION  REAL  EMAIL SMS  \n",
       "0          1     0     SI  SI  \n",
       "1          0     0     NO  NO  \n",
       "2          1     0     NO  NO  \n",
       "3          0     0     NO  NO  \n",
       "4          1     1     NO  NO  \n",
       "\n",
       "[5 rows x 28 columns]"
      ]
     },
     "execution_count": 3,
     "metadata": {},
     "output_type": "execute_result"
    }
   ],
   "source": [
    "# Leer csv\n",
    "datos = pd.read_excel(\"prueba_pgu.xlsx\", keep_default_na=False, sheet_name ='dat', na_values=[\"\"])\n",
    "\n",
    "# Ver primeras filas \n",
    "datos.head()"
   ]
  },
  {
   "cell_type": "code",
   "execution_count": 4,
   "id": "30cd39eb",
   "metadata": {},
   "outputs": [
    {
     "data": {
      "text/html": [
       "<div>\n",
       "<style scoped>\n",
       "    .dataframe tbody tr th:only-of-type {\n",
       "        vertical-align: middle;\n",
       "    }\n",
       "\n",
       "    .dataframe tbody tr th {\n",
       "        vertical-align: top;\n",
       "    }\n",
       "\n",
       "    .dataframe thead th {\n",
       "        text-align: right;\n",
       "    }\n",
       "</style>\n",
       "<table border=\"1\" class=\"dataframe\">\n",
       "  <thead>\n",
       "    <tr style=\"text-align: right;\">\n",
       "      <th></th>\n",
       "      <th>PREDICCION</th>\n",
       "      <th>REAL</th>\n",
       "      <th>RUN</th>\n",
       "      <th>SEXO</th>\n",
       "    </tr>\n",
       "  </thead>\n",
       "  <tbody>\n",
       "    <tr>\n",
       "      <th>0</th>\n",
       "      <td>1</td>\n",
       "      <td>0</td>\n",
       "      <td>4576567</td>\n",
       "      <td>F</td>\n",
       "    </tr>\n",
       "    <tr>\n",
       "      <th>1</th>\n",
       "      <td>0</td>\n",
       "      <td>0</td>\n",
       "      <td>4798932</td>\n",
       "      <td>F</td>\n",
       "    </tr>\n",
       "    <tr>\n",
       "      <th>2</th>\n",
       "      <td>1</td>\n",
       "      <td>0</td>\n",
       "      <td>6762746</td>\n",
       "      <td>F</td>\n",
       "    </tr>\n",
       "    <tr>\n",
       "      <th>3</th>\n",
       "      <td>0</td>\n",
       "      <td>0</td>\n",
       "      <td>4581981</td>\n",
       "      <td>F</td>\n",
       "    </tr>\n",
       "    <tr>\n",
       "      <th>4</th>\n",
       "      <td>1</td>\n",
       "      <td>1</td>\n",
       "      <td>7247445</td>\n",
       "      <td>F</td>\n",
       "    </tr>\n",
       "    <tr>\n",
       "      <th>...</th>\n",
       "      <td>...</td>\n",
       "      <td>...</td>\n",
       "      <td>...</td>\n",
       "      <td>...</td>\n",
       "    </tr>\n",
       "    <tr>\n",
       "      <th>5931</th>\n",
       "      <td>1</td>\n",
       "      <td>0</td>\n",
       "      <td>8354679</td>\n",
       "      <td>F</td>\n",
       "    </tr>\n",
       "    <tr>\n",
       "      <th>5932</th>\n",
       "      <td>1</td>\n",
       "      <td>0</td>\n",
       "      <td>7477453</td>\n",
       "      <td>M</td>\n",
       "    </tr>\n",
       "    <tr>\n",
       "      <th>5933</th>\n",
       "      <td>1</td>\n",
       "      <td>0</td>\n",
       "      <td>9245825</td>\n",
       "      <td>F</td>\n",
       "    </tr>\n",
       "    <tr>\n",
       "      <th>5934</th>\n",
       "      <td>1</td>\n",
       "      <td>0</td>\n",
       "      <td>8098869</td>\n",
       "      <td>M</td>\n",
       "    </tr>\n",
       "    <tr>\n",
       "      <th>5935</th>\n",
       "      <td>1</td>\n",
       "      <td>1</td>\n",
       "      <td>6160376</td>\n",
       "      <td>M</td>\n",
       "    </tr>\n",
       "  </tbody>\n",
       "</table>\n",
       "<p>5936 rows × 4 columns</p>\n",
       "</div>"
      ],
      "text/plain": [
       "      PREDICCION  REAL      RUN SEXO\n",
       "0              1     0  4576567    F\n",
       "1              0     0  4798932    F\n",
       "2              1     0  6762746    F\n",
       "3              0     0  4581981    F\n",
       "4              1     1  7247445    F\n",
       "...          ...   ...      ...  ...\n",
       "5931           1     0  8354679    F\n",
       "5932           1     0  7477453    M\n",
       "5933           1     0  9245825    F\n",
       "5934           1     0  8098869    M\n",
       "5935           1     1  6160376    M\n",
       "\n",
       "[5936 rows x 4 columns]"
      ]
     },
     "execution_count": 4,
     "metadata": {},
     "output_type": "execute_result"
    }
   ],
   "source": [
    "# Ordenar las columnas \n",
    "cols = ['PREDICCION', 'REAL', 'RUN', 'SEXO']\n",
    "df = datos[cols]\n",
    "df"
   ]
  },
  {
   "cell_type": "code",
   "execution_count": 7,
   "id": "7b7e831f",
   "metadata": {},
   "outputs": [
    {
     "data": {
      "text/html": [
       "<div>\n",
       "<style scoped>\n",
       "    .dataframe tbody tr th:only-of-type {\n",
       "        vertical-align: middle;\n",
       "    }\n",
       "\n",
       "    .dataframe tbody tr th {\n",
       "        vertical-align: top;\n",
       "    }\n",
       "\n",
       "    .dataframe thead th {\n",
       "        text-align: right;\n",
       "    }\n",
       "</style>\n",
       "<table border=\"1\" class=\"dataframe\">\n",
       "  <thead>\n",
       "    <tr style=\"text-align: right;\">\n",
       "      <th></th>\n",
       "      <th>PREDICCION</th>\n",
       "      <th>REAL</th>\n",
       "      <th>RUN</th>\n",
       "      <th>SEXO</th>\n",
       "    </tr>\n",
       "  </thead>\n",
       "  <tbody>\n",
       "    <tr>\n",
       "      <th>13</th>\n",
       "      <td>1</td>\n",
       "      <td>1</td>\n",
       "      <td>4382029</td>\n",
       "      <td>M</td>\n",
       "    </tr>\n",
       "    <tr>\n",
       "      <th>19</th>\n",
       "      <td>0</td>\n",
       "      <td>0</td>\n",
       "      <td>6141515</td>\n",
       "      <td>M</td>\n",
       "    </tr>\n",
       "    <tr>\n",
       "      <th>22</th>\n",
       "      <td>1</td>\n",
       "      <td>1</td>\n",
       "      <td>6397205</td>\n",
       "      <td>M</td>\n",
       "    </tr>\n",
       "    <tr>\n",
       "      <th>23</th>\n",
       "      <td>0</td>\n",
       "      <td>0</td>\n",
       "      <td>6459485</td>\n",
       "      <td>M</td>\n",
       "    </tr>\n",
       "    <tr>\n",
       "      <th>24</th>\n",
       "      <td>0</td>\n",
       "      <td>1</td>\n",
       "      <td>6389883</td>\n",
       "      <td>M</td>\n",
       "    </tr>\n",
       "    <tr>\n",
       "      <th>...</th>\n",
       "      <td>...</td>\n",
       "      <td>...</td>\n",
       "      <td>...</td>\n",
       "      <td>...</td>\n",
       "    </tr>\n",
       "    <tr>\n",
       "      <th>5925</th>\n",
       "      <td>1</td>\n",
       "      <td>0</td>\n",
       "      <td>7732041</td>\n",
       "      <td>M</td>\n",
       "    </tr>\n",
       "    <tr>\n",
       "      <th>5926</th>\n",
       "      <td>1</td>\n",
       "      <td>0</td>\n",
       "      <td>7476141</td>\n",
       "      <td>M</td>\n",
       "    </tr>\n",
       "    <tr>\n",
       "      <th>5932</th>\n",
       "      <td>1</td>\n",
       "      <td>0</td>\n",
       "      <td>7477453</td>\n",
       "      <td>M</td>\n",
       "    </tr>\n",
       "    <tr>\n",
       "      <th>5934</th>\n",
       "      <td>1</td>\n",
       "      <td>0</td>\n",
       "      <td>8098869</td>\n",
       "      <td>M</td>\n",
       "    </tr>\n",
       "    <tr>\n",
       "      <th>5935</th>\n",
       "      <td>1</td>\n",
       "      <td>1</td>\n",
       "      <td>6160376</td>\n",
       "      <td>M</td>\n",
       "    </tr>\n",
       "  </tbody>\n",
       "</table>\n",
       "<p>1784 rows × 4 columns</p>\n",
       "</div>"
      ],
      "text/plain": [
       "      PREDICCION  REAL      RUN SEXO\n",
       "13             1     1  4382029    M\n",
       "19             0     0  6141515    M\n",
       "22             1     1  6397205    M\n",
       "23             0     0  6459485    M\n",
       "24             0     1  6389883    M\n",
       "...          ...   ...      ...  ...\n",
       "5925           1     0  7732041    M\n",
       "5926           1     0  7476141    M\n",
       "5932           1     0  7477453    M\n",
       "5934           1     0  8098869    M\n",
       "5935           1     1  6160376    M\n",
       "\n",
       "[1784 rows x 4 columns]"
      ]
     },
     "execution_count": 7,
     "metadata": {},
     "output_type": "execute_result"
    }
   ],
   "source": [
    "#v Separar variables base de datos\n",
    "# Hombres \n",
    "df_hombres = df[df['SEXO'] == \"M\"]\n",
    "df_hombres"
   ]
  },
  {
   "cell_type": "code",
   "execution_count": 5,
   "id": "82cc9550",
   "metadata": {},
   "outputs": [
    {
     "data": {
      "text/html": [
       "<div>\n",
       "<style scoped>\n",
       "    .dataframe tbody tr th:only-of-type {\n",
       "        vertical-align: middle;\n",
       "    }\n",
       "\n",
       "    .dataframe tbody tr th {\n",
       "        vertical-align: top;\n",
       "    }\n",
       "\n",
       "    .dataframe thead th {\n",
       "        text-align: right;\n",
       "    }\n",
       "</style>\n",
       "<table border=\"1\" class=\"dataframe\">\n",
       "  <thead>\n",
       "    <tr style=\"text-align: right;\">\n",
       "      <th></th>\n",
       "      <th>PREDICCION</th>\n",
       "      <th>REAL</th>\n",
       "      <th>RUN</th>\n",
       "      <th>SEXO</th>\n",
       "    </tr>\n",
       "  </thead>\n",
       "  <tbody>\n",
       "    <tr>\n",
       "      <th>0</th>\n",
       "      <td>1</td>\n",
       "      <td>0</td>\n",
       "      <td>4576567</td>\n",
       "      <td>F</td>\n",
       "    </tr>\n",
       "    <tr>\n",
       "      <th>1</th>\n",
       "      <td>0</td>\n",
       "      <td>0</td>\n",
       "      <td>4798932</td>\n",
       "      <td>F</td>\n",
       "    </tr>\n",
       "    <tr>\n",
       "      <th>2</th>\n",
       "      <td>1</td>\n",
       "      <td>0</td>\n",
       "      <td>6762746</td>\n",
       "      <td>F</td>\n",
       "    </tr>\n",
       "    <tr>\n",
       "      <th>3</th>\n",
       "      <td>0</td>\n",
       "      <td>0</td>\n",
       "      <td>4581981</td>\n",
       "      <td>F</td>\n",
       "    </tr>\n",
       "    <tr>\n",
       "      <th>4</th>\n",
       "      <td>1</td>\n",
       "      <td>1</td>\n",
       "      <td>7247445</td>\n",
       "      <td>F</td>\n",
       "    </tr>\n",
       "    <tr>\n",
       "      <th>...</th>\n",
       "      <td>...</td>\n",
       "      <td>...</td>\n",
       "      <td>...</td>\n",
       "      <td>...</td>\n",
       "    </tr>\n",
       "    <tr>\n",
       "      <th>5928</th>\n",
       "      <td>1</td>\n",
       "      <td>1</td>\n",
       "      <td>4971229</td>\n",
       "      <td>F</td>\n",
       "    </tr>\n",
       "    <tr>\n",
       "      <th>5929</th>\n",
       "      <td>1</td>\n",
       "      <td>0</td>\n",
       "      <td>5775935</td>\n",
       "      <td>F</td>\n",
       "    </tr>\n",
       "    <tr>\n",
       "      <th>5930</th>\n",
       "      <td>1</td>\n",
       "      <td>0</td>\n",
       "      <td>6650989</td>\n",
       "      <td>F</td>\n",
       "    </tr>\n",
       "    <tr>\n",
       "      <th>5931</th>\n",
       "      <td>1</td>\n",
       "      <td>0</td>\n",
       "      <td>8354679</td>\n",
       "      <td>F</td>\n",
       "    </tr>\n",
       "    <tr>\n",
       "      <th>5933</th>\n",
       "      <td>1</td>\n",
       "      <td>0</td>\n",
       "      <td>9245825</td>\n",
       "      <td>F</td>\n",
       "    </tr>\n",
       "  </tbody>\n",
       "</table>\n",
       "<p>4152 rows × 4 columns</p>\n",
       "</div>"
      ],
      "text/plain": [
       "      PREDICCION  REAL      RUN SEXO\n",
       "0              1     0  4576567    F\n",
       "1              0     0  4798932    F\n",
       "2              1     0  6762746    F\n",
       "3              0     0  4581981    F\n",
       "4              1     1  7247445    F\n",
       "...          ...   ...      ...  ...\n",
       "5928           1     1  4971229    F\n",
       "5929           1     0  5775935    F\n",
       "5930           1     0  6650989    F\n",
       "5931           1     0  8354679    F\n",
       "5933           1     0  9245825    F\n",
       "\n",
       "[4152 rows x 4 columns]"
      ]
     },
     "execution_count": 5,
     "metadata": {},
     "output_type": "execute_result"
    }
   ],
   "source": [
    "# Mujeres \n",
    "df_mujeres = df[df['SEXO'] == \"F\"]\n",
    "df_mujeres"
   ]
  },
  {
   "cell_type": "code",
   "execution_count": 8,
   "id": "02a79cd3",
   "metadata": {},
   "outputs": [
    {
     "data": {
      "text/plain": [
       "array([[335, 606],\n",
       "       [155, 688]])"
      ]
     },
     "execution_count": 8,
     "metadata": {},
     "output_type": "execute_result"
    }
   ],
   "source": [
    "#Matriz de confusión de hombres\n",
    "matriz_1 = sklearn.metrics.confusion_matrix(df_hombres['REAL'], df_hombres['PREDICCION'])\n",
    "matriz_1"
   ]
  },
  {
   "cell_type": "code",
   "execution_count": 9,
   "id": "c434ab62",
   "metadata": {},
   "outputs": [
    {
     "data": {
      "text/plain": [
       "array([[ 969, 1368],\n",
       "       [ 354, 1461]])"
      ]
     },
     "execution_count": 9,
     "metadata": {},
     "output_type": "execute_result"
    }
   ],
   "source": [
    "#Matriz de confusión de mujeres \n",
    "matriz_2 = sklearn.metrics.confusion_matrix(df_mujeres['REAL'], df_mujeres['PREDICCION'])\n",
    "matriz_2"
   ]
  },
  {
   "cell_type": "code",
   "execution_count": 38,
   "id": "b6b8e649",
   "metadata": {},
   "outputs": [
    {
     "data": {
      "image/png": "[encoded data removed]",
      "text/plain": [
       "<Figure size 1000x800 with 2 Axes>"
      ]
     },
     "metadata": {},
     "output_type": "display_data"
    }
   ],
   "source": [
    "# Vamos a realizar la gráfica más bella\n",
    "import seaborn as sns\n",
    "import matplotlib.pyplot as plt\n",
    "\n",
    "\n",
    "plt.figure(figsize=(10, 8))  # Puedes ajustar el tamaño según tus necesidades\n",
    "sns.heatmap(matriz_1,\n",
    "            xticklabels=[\"POSITIVE\", \"NEGATIVE\"],\n",
    "            yticklabels=[\"POSITIVE\", \"NEGATIVE\"],\n",
    "            cmap='coolwarm',  # Elige el mapa de colores que prefieras\n",
    "            annot=True,  # Muestra los valores de correlación}\n",
    "            linewidths=.5,\n",
    "            fmt='g')  # Ajusta el espaciado entre las celdas si es necesario\n",
    "plt.title(\"Correlación de variables\")\n",
    "\n",
    "plt.show()"
   ]
  },
  {
   "cell_type": "code",
   "execution_count": 10,
   "id": "7539b8af",
   "metadata": {},
   "outputs": [],
   "source": [
    "#Obtener TP, TN, FP, FN hombres \n",
    "tn1, fp1, fn1, tp1 = matriz_1.ravel()"
   ]
  },
  {
   "cell_type": "code",
   "execution_count": 11,
   "id": "82330e9e",
   "metadata": {},
   "outputs": [],
   "source": [
    "#Obtener TP, TN, FP, FN mujeres  \n",
    "tn2, fp2, fn2, tp2 = matriz_2.ravel()"
   ]
  },
  {
   "cell_type": "markdown",
   "id": "3bfd97b9",
   "metadata": {},
   "source": [
    "### Métricas de medición de sesgos "
   ]
  },
  {
   "cell_type": "code",
   "execution_count": 12,
   "id": "3a6c0758",
   "metadata": {},
   "outputs": [],
   "source": [
    "#False positive rate\n",
    "#Hombres\n",
    "fpr_1 = fp1/(fp1+tn1)\n",
    "\n",
    "#Mujeres \n",
    "fpr_2 =fp2/(fp2+tn2)"
   ]
  },
  {
   "cell_type": "code",
   "execution_count": 13,
   "id": "d9c2ee49",
   "metadata": {},
   "outputs": [],
   "source": [
    "#False negative rate \n",
    "#Hombres \n",
    "fnr_1 = fn1/(tp1+fn1)\n",
    "\n",
    "#Mujeres \n",
    "fnr_2 = fn2/(tp2+fn2)"
   ]
  },
  {
   "cell_type": "code",
   "execution_count": 14,
   "id": "749061c4",
   "metadata": {},
   "outputs": [],
   "source": [
    "#False omission rate \n",
    "#Hombres \n",
    "fomr_1 = fn1/(tn1+fn1)\n",
    "\n",
    "#Mujeres \n",
    "fomr_2 = fn2/(tn2+fn2)"
   ]
  },
  {
   "cell_type": "code",
   "execution_count": 15,
   "id": "a2a390d5",
   "metadata": {},
   "outputs": [],
   "source": [
    "#False discovery rate\n",
    "#Hombres\n",
    "fdr_1 = fp1/(tp1+fp1)\n",
    "\n",
    "#Mujeres\n",
    "fdr_2 = fp2/(tp2+fp2)"
   ]
  },
  {
   "cell_type": "code",
   "execution_count": 16,
   "id": "40fe7201",
   "metadata": {
    "scrolled": true
   },
   "outputs": [
    {
     "data": {
      "text/html": [
       "<div>\n",
       "<style scoped>\n",
       "    .dataframe tbody tr th:only-of-type {\n",
       "        vertical-align: middle;\n",
       "    }\n",
       "\n",
       "    .dataframe tbody tr th {\n",
       "        vertical-align: top;\n",
       "    }\n",
       "\n",
       "    .dataframe thead th {\n",
       "        text-align: right;\n",
       "    }\n",
       "</style>\n",
       "<table border=\"1\" class=\"dataframe\">\n",
       "  <thead>\n",
       "    <tr style=\"text-align: right;\">\n",
       "      <th></th>\n",
       "      <th>False positive rate</th>\n",
       "      <th>False negative rate</th>\n",
       "      <th>False omission rate</th>\n",
       "      <th>False discovery rate</th>\n",
       "    </tr>\n",
       "  </thead>\n",
       "  <tbody>\n",
       "    <tr>\n",
       "      <th>Hombres</th>\n",
       "      <td>0.643996</td>\n",
       "      <td>0.183867</td>\n",
       "      <td>0.316327</td>\n",
       "      <td>0.468315</td>\n",
       "    </tr>\n",
       "    <tr>\n",
       "      <th>Mujeres</th>\n",
       "      <td>0.585366</td>\n",
       "      <td>0.195041</td>\n",
       "      <td>0.267574</td>\n",
       "      <td>0.483563</td>\n",
       "    </tr>\n",
       "  </tbody>\n",
       "</table>\n",
       "</div>"
      ],
      "text/plain": [
       "         False positive rate  False negative rate  False omission rate  \\\n",
       "Hombres             0.643996             0.183867             0.316327   \n",
       "Mujeres             0.585366             0.195041             0.267574   \n",
       "\n",
       "         False discovery rate  \n",
       "Hombres              0.468315  \n",
       "Mujeres              0.483563  "
      ]
     },
     "execution_count": 16,
     "metadata": {},
     "output_type": "execute_result"
    }
   ],
   "source": [
    "#Tabla métricas \n",
    "#resumir datos\n",
    "metricas = {'False positive rate': [fpr_1, fpr_2], \n",
    "            'False negative rate':[fnr_1, fnr_2],\n",
    "            'False omission rate':[fomr_1, fomr_2], \n",
    "            'False discovery rate':[fdr_1, fdr_2]}\n",
    "\n",
    "#crear dataframe\n",
    "df_metricas = pd.DataFrame(metricas)\n",
    "df_metricas.index = ['Hombres', 'Mujeres']\n",
    "df_metricas"
   ]
  },
  {
   "cell_type": "markdown",
   "id": "a410fdbc",
   "metadata": {},
   "source": [
    "### Comparaciones e interpretación"
   ]
  },
  {
   "cell_type": "code",
   "execution_count": 17,
   "id": "d6fcd1f7",
   "metadata": {},
   "outputs": [
    {
     "data": {
      "text/plain": [
       "1.1001594048884167"
      ]
     },
     "execution_count": 17,
     "metadata": {},
     "output_type": "execute_result"
    }
   ],
   "source": [
    "#Significa que la proporción de falsos positivos entre hombres es aproximadamente un 10% mayor\n",
    "#que la proporción de falsos positivos entre mujeres.\n",
    "#Interpretando esto, puedes decir que, en relación con las mujeres, los hombres tienen una tasa \n",
    "#ligeramente más alta de falsos positivos. Esto implica que en el contexto de tu análisis, \n",
    "#hay una mayor proporción de casos donde la prueba o el modelo indica incorrectamente la presencia\n",
    "#de la condición o la variable de interés en hombres en comparación con mujeres.\n",
    "fpr_1/fpr_2"
   ]
  },
  {
   "cell_type": "code",
   "execution_count": 18,
   "id": "a07932ef",
   "metadata": {},
   "outputs": [
    {
     "data": {
      "text/plain": [
       "0.9427086474857752"
      ]
     },
     "execution_count": 18,
     "metadata": {},
     "output_type": "execute_result"
    }
   ],
   "source": [
    "#significa que la proporción de falsos negativos entre hombres es aproximadamente el 90% de la proporción \n",
    "#de falsos negativos entre mujeres.\n",
    "#Interpretando esto, puedes decir que, en relación con las mujeres, los hombres tienen una tasa ligeramente \n",
    "#más baja de falsos negativos. Específicamente, en el contexto en el que estás trabajando, los hombres tienen \n",
    "#menos casos donde la prueba o el modelo fallan en identificar correctamente la condición o la variable de \n",
    "#interés en comparación con las mujeres.\n",
    "fnr_1/fnr_2"
   ]
  },
  {
   "cell_type": "code",
   "execution_count": 19,
   "id": "3a69e0fc",
   "metadata": {},
   "outputs": [
    {
     "data": {
      "text/plain": [
       "1.1822033898305084"
      ]
     },
     "execution_count": 19,
     "metadata": {},
     "output_type": "execute_result"
    }
   ],
   "source": [
    "#significa que la proporción de falsas omisiones entre hombres es aproximadamente un 18% mayor que\n",
    "#la proporción de falsas omisiones entre mujeres.\n",
    "#Esto implica que en el contexto de tu análisis, hay una mayor proporción de casos donde \n",
    "#la prueba o el modelo no indica la presencia de la condición o la variable de interés \n",
    "#en hombres en comparación con mujeres, cuando en realidad debería haber sido detectada.\n",
    "fomr_1/fomr_2"
   ]
  },
  {
   "cell_type": "code",
   "execution_count": 20,
   "id": "d81da8de",
   "metadata": {},
   "outputs": [
    {
     "data": {
      "text/plain": [
       "0.9684678272187425"
      ]
     },
     "execution_count": 20,
     "metadata": {},
     "output_type": "execute_result"
    }
   ],
   "source": [
    "#significa que la proporción de falsos descubrimientos entre hombres es aproximadamente un 4% \n",
    "#menor que la proporción de falsos descubrimientos entre mujeres.\n",
    "#Esto implica que en el contexto de tu análisis, hay una menor proporción de casos donde se \n",
    "#hace un descubrimiento erróneo (por ejemplo, una asociación entre variables) en hombres en \n",
    "#comparación con mujeres.\n",
    "fdr_1/fdr_2"
   ]
  },
  {
   "cell_type": "markdown",
   "id": "8fe79117",
   "metadata": {},
   "source": [
    "### Umbral"
   ]
  },
  {
   "cell_type": "code",
   "execution_count": 21,
   "id": "942a2297",
   "metadata": {},
   "outputs": [],
   "source": [
    "#Umbral de decision\n",
    "umbral = 0.1 #90%"
   ]
  },
  {
   "cell_type": "code",
   "execution_count": 22,
   "id": "a27b7fe3",
   "metadata": {},
   "outputs": [],
   "source": [
    "#Comparación False Positive Rate\n",
    "fair_fpr = False\n",
    "\n",
    "if ((1-umbral)<=(fpr_2/fpr_1)<=(1/(1-umbral))):\n",
    "    fair_fpr = True"
   ]
  },
  {
   "cell_type": "code",
   "execution_count": 23,
   "id": "3a9e534e",
   "metadata": {},
   "outputs": [],
   "source": [
    "#Comparación False Negative Rate\n",
    "fair_fnr = False\n",
    "\n",
    "if ((1-umbral)<=(fnr_2/fnr_1)<=(1/(1-umbral))):\n",
    "    fair_fnr = True"
   ]
  },
  {
   "cell_type": "code",
   "execution_count": 24,
   "id": "5cf7328b",
   "metadata": {},
   "outputs": [],
   "source": [
    "#Comparación False Omission Rate\n",
    "fair_fomr = False\n",
    "\n",
    "if ((1-umbral)<=(fomr_2/fomr_1)<=(1/(1-umbral))):\n",
    "    fair_fomr = True"
   ]
  },
  {
   "cell_type": "code",
   "execution_count": 25,
   "id": "02d71aaf",
   "metadata": {},
   "outputs": [],
   "source": [
    "#Comparación False Discovery Rate\n",
    "fair_fdr = False\n",
    "\n",
    "if ((1-umbral)<=(fdr_2/fdr_1)<=(1/(1-umbral))):\n",
    "    fair_fdr = True"
   ]
  },
  {
   "cell_type": "code",
   "execution_count": 26,
   "id": "fed33331",
   "metadata": {},
   "outputs": [
    {
     "data": {
      "text/html": [
       "<div>\n",
       "<style scoped>\n",
       "    .dataframe tbody tr th:only-of-type {\n",
       "        vertical-align: middle;\n",
       "    }\n",
       "\n",
       "    .dataframe tbody tr th {\n",
       "        vertical-align: top;\n",
       "    }\n",
       "\n",
       "    .dataframe thead th {\n",
       "        text-align: right;\n",
       "    }\n",
       "</style>\n",
       "<table border=\"1\" class=\"dataframe\">\n",
       "  <thead>\n",
       "    <tr style=\"text-align: right;\">\n",
       "      <th></th>\n",
       "      <th>False positive rate</th>\n",
       "      <th>False negative rate</th>\n",
       "      <th>False omission rate</th>\n",
       "      <th>False discovery rate</th>\n",
       "    </tr>\n",
       "  </thead>\n",
       "  <tbody>\n",
       "    <tr>\n",
       "      <th>Hombres</th>\n",
       "      <td>REF</td>\n",
       "      <td>REF</td>\n",
       "      <td>REF</td>\n",
       "      <td>REF</td>\n",
       "    </tr>\n",
       "    <tr>\n",
       "      <th>Mujeres</th>\n",
       "      <td>True</td>\n",
       "      <td>True</td>\n",
       "      <td>False</td>\n",
       "      <td>True</td>\n",
       "    </tr>\n",
       "  </tbody>\n",
       "</table>\n",
       "</div>"
      ],
      "text/plain": [
       "        False positive rate False negative rate False omission rate  \\\n",
       "Hombres                 REF                 REF                 REF   \n",
       "Mujeres                True                True               False   \n",
       "\n",
       "        False discovery rate  \n",
       "Hombres                  REF  \n",
       "Mujeres                 True  "
      ]
     },
     "execution_count": 26,
     "metadata": {},
     "output_type": "execute_result"
    }
   ],
   "source": [
    "#Resumen disparidades \n",
    "#resumir datos\n",
    "disparidades = {'False positive rate': ['REF', fair_fpr], \n",
    "                'False negative rate':['REF', fair_fnr],\n",
    "                'False omission rate':['REF', fair_fomr], \n",
    "                'False discovery rate':['REF', fair_fdr]}\n",
    "\n",
    "#crear dataframe\n",
    "df_disparidades = pd.DataFrame(disparidades)\n",
    "df_disparidades.index = ['Hombres', 'Mujeres']\n",
    "df_disparidades"
   ]
  },
  {
   "cell_type": "code",
   "execution_count": 27,
   "id": "4646168f",
   "metadata": {},
   "outputs": [
    {
     "data": {
      "text/html": [
       "<div>\n",
       "<style scoped>\n",
       "    .dataframe tbody tr th:only-of-type {\n",
       "        vertical-align: middle;\n",
       "    }\n",
       "\n",
       "    .dataframe tbody tr th {\n",
       "        vertical-align: top;\n",
       "    }\n",
       "\n",
       "    .dataframe thead th {\n",
       "        text-align: right;\n",
       "    }\n",
       "</style>\n",
       "<table border=\"1\" class=\"dataframe\">\n",
       "  <thead>\n",
       "    <tr style=\"text-align: right;\">\n",
       "      <th></th>\n",
       "      <th>False positive rate</th>\n",
       "      <th>False negative rate</th>\n",
       "      <th>False omission rate</th>\n",
       "      <th>False discovery rate</th>\n",
       "    </tr>\n",
       "  </thead>\n",
       "  <tbody>\n",
       "    <tr>\n",
       "      <th>Hombres</th>\n",
       "      <td>REF</td>\n",
       "      <td>REF</td>\n",
       "      <td>REF</td>\n",
       "      <td>REF</td>\n",
       "    </tr>\n",
       "    <tr>\n",
       "      <th>Mujeres</th>\n",
       "      <td>0.908959</td>\n",
       "      <td>1.060773</td>\n",
       "      <td>0.845878</td>\n",
       "      <td>1.032559</td>\n",
       "    </tr>\n",
       "  </tbody>\n",
       "</table>\n",
       "</div>"
      ],
      "text/plain": [
       "        False positive rate False negative rate False omission rate  \\\n",
       "Hombres                 REF                 REF                 REF   \n",
       "Mujeres            0.908959            1.060773            0.845878   \n",
       "\n",
       "        False discovery rate  \n",
       "Hombres                  REF  \n",
       "Mujeres             1.032559  "
      ]
     },
     "execution_count": 27,
     "metadata": {},
     "output_type": "execute_result"
    }
   ],
   "source": [
    "#Resumen comparación \n",
    "#resumir datos\n",
    "comparacion = {'False positive rate': ['REF', fpr_2/fpr_1], \n",
    "               'False negative rate':['REF', fnr_2/fnr_1],\n",
    "               'False omission rate':['REF', fomr_2/fomr_1], \n",
    "               'False discovery rate':['REF', fdr_2/fdr_1]}\n",
    "\n",
    "#crear dataframe\n",
    "df_comparacion = pd.DataFrame(comparacion)\n",
    "df_comparacion.index = ['Hombres', 'Mujeres']\n",
    "df_comparacion"
   ]
  },
  {
   "cell_type": "code",
   "execution_count": null,
   "id": "742aafda",
   "metadata": {},
   "outputs": [],
   "source": []
  },
  {
   "cell_type": "code",
   "execution_count": null,
   "id": "4193b4a9",
   "metadata": {},
   "outputs": [],
   "source": []
  },
  {
   "cell_type": "code",
   "execution_count": null,
   "id": "96dcd676",
   "metadata": {},
   "outputs": [],
   "source": []
  },
  {
   "cell_type": "code",
   "execution_count": null,
   "id": "2fe1186c",
   "metadata": {},
   "outputs": [],
   "source": []
  },
  {
   "cell_type": "code",
   "execution_count": null,
   "id": "b5e78f1c",
   "metadata": {},
   "outputs": [],
   "source": []
  },
  {
   "cell_type": "code",
   "execution_count": null,
   "id": "906d20fd",
   "metadata": {},
   "outputs": [],
   "source": []
  },
  {
   "cell_type": "code",
   "execution_count": null,
   "id": "5e89186a",
   "metadata": {},
   "outputs": [],
   "source": []
  }
 ],
 "metadata": {
  "kernelspec": {
   "display_name": "Python 3 (ipykernel)",
   "language": "python",
   "name": "python3"
  },
  "language_info": {
   "codemirror_mode": {
    "name": "ipython",
    "version": 3
   },
   "file_extension": ".py",
   "mimetype": "text/x-python",
   "name": "python",
   "nbconvert_exporter": "python",
   "pygments_lexer": "ipython3",
   "version": "3.11.7"
  }
 },
 "nbformat": 4,
 "nbformat_minor": 5
}
